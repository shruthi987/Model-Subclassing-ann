{
  "nbformat": 4,
  "nbformat_minor": 0,
  "metadata": {
    "colab": {
      "provenance": []
    },
    "kernelspec": {
      "name": "python3",
      "display_name": "Python 3"
    },
    "language_info": {
      "name": "python"
    }
  },
  "cells": [
    {
      "cell_type": "code",
      "execution_count": null,
      "metadata": {
        "id": "sm0hI0tlVQis"
      },
      "outputs": [],
      "source": [
        "#Model Subclassing\n",
        "import tensorflow as tf\n",
        "from keras.layers import Dense,Input"
      ]
    },
    {
      "cell_type": "code",
      "source": [
        "class MyModel(tf.keras.Model):\n",
        "  def __init__(self):\n",
        "    super(MyModel, self).__init__()\n",
        "    self.l1 = Dense(8,activation='relu')\n",
        "    self.l2 = Dense(10,activation='relu')\n",
        "    self.l3 = Dense(10,activation = 'relu')\n",
        "    self.l4 = Dense(3,activation = 'softmax')\n",
        "\n",
        "  def call(self, inputs):\n",
        "    x = self.l1(inputs)\n",
        "    x = self.l2(x)\n",
        "    x = self.l3(x)\n",
        "    return self.l4(x)"
      ],
      "metadata": {
        "id": "a4yx-mxxWzX8"
      },
      "execution_count": null,
      "outputs": []
    },
    {
      "cell_type": "code",
      "source": [],
      "metadata": {
        "id": "D0WhuutOZJBf"
      },
      "execution_count": null,
      "outputs": []
    }
  ]
}